{
 "cells": [
  {
   "cell_type": "code",
   "execution_count": 17,
   "metadata": {},
   "outputs": [
    {
     "name": "stderr",
     "output_type": "stream",
     "text": [
      "GiltTNR/GiltTNR2D_essentials.py:111: DeprecationWarning: invalid escape sequence '\\ '\n",
      "  \"\"\"\n"
     ]
    }
   ],
   "source": [
    "include(\"Tools.jl\");\n",
    "include(\"GaugeFixing.jl\")\n",
    "include(\"KrylovTechnical.jl\")\n",
    "using DataFrames, CSV;"
   ]
  },
  {
   "cell_type": "markdown",
   "metadata": {},
   "source": [
    "Note that this notebook is not supposed to evaluate anything. It only loads, displays, and saves in a convinient format the precomputed results."
   ]
  },
  {
   "cell_type": "code",
   "execution_count": 28,
   "metadata": {},
   "outputs": [],
   "source": [
    "#change these values####\n",
    "chi = 10               #\n",
    "gilt_eps = 1e-4        #\n",
    "########################\n",
    "\n",
    "gilt_pars = Dict(\n",
    "    \"gilt_eps\" => gilt_eps,\n",
    "    \"cg_chis\" => collect(1:chi),\n",
    "    \"cg_eps\" => 1e-10,\n",
    "    \"verbosity\" => 0,\n",
    "    \"rotate\" => false\n",
    ")\n",
    "gilt_pars_r = Dict(\n",
    "    \"gilt_eps\" => gilt_eps,\n",
    "    \"cg_chis\" => collect(1:chi),\n",
    "    \"cg_eps\" => 1e-10,\n",
    "    \"verbosity\" => 0,\n",
    "    \"rotate\" => true\n",
    ");\n"
   ]
  },
  {
   "cell_type": "markdown",
   "metadata": {},
   "source": [
    "## Critical temperature with and without rotation (10 digits ):"
   ]
  },
  {
   "cell_type": "code",
   "execution_count": 29,
   "metadata": {},
   "outputs": [
    {
     "name": "stdout",
     "output_type": "stream",
     "text": [
      "             relT lower bound   |  relT higher bound  | relT mean value\n",
      "no rotation  1.001277863159776  |  1.001277863234282  | 1.001277863197029\n",
      "   rotation  1.0012784460932016 |  1.0012784461677073 | 1.0012784461304545\n"
     ]
    }
   ],
   "source": [
    "id = gilt_pars_identifier(gilt_pars)\n",
    "id_r = gilt_pars_identifier(gilt_pars_r)\n",
    "\n",
    "crit_pars = deserialize(\"critical_temperatures/\" * id * \"__tol=1.0e-10.data\")\n",
    "crit_pars_r = deserialize(\"critical_temperatures/\" * id_r * \"__tol=1.0e-10.data\")\n",
    "\n",
    "println(\"             \", \"relT lower bound   |  relT higher bound  | relT mean value\")\n",
    "println(\"no rotation  \", crit_pars[1], \"  |  \", crit_pars[2], \"  | \", (crit_pars[1] + crit_pars[2]) / 2)\n",
    "println(\"   rotation  \", crit_pars_r[1], \" |  \", crit_pars_r[2], \" | \", (crit_pars_r[1] + crit_pars_r[2]) / 2)"
   ]
  },
  {
   "cell_type": "markdown",
   "metadata": {},
   "source": [
    "# Spectra of the jacobian at the approximate fixed point (no rotation)"
   ]
  },
  {
   "cell_type": "code",
   "execution_count": 30,
   "metadata": {},
   "outputs": [
    {
     "data": {
      "text/html": [
       "<div><div style = \"float: left;\"><span>30×6 DataFrame</span></div><div style = \"float: right;\"><span style = \"font-style: italic;\">5 rows omitted</span></div><div style = \"clear: both;\"></div></div><div class = \"data-frame\" style = \"overflow-x: scroll;\"><table class = \"data-frame\" style = \"margin-bottom: 6px;\"><thead><tr class = \"header\"><th class = \"rowNumber\" style = \"font-weight: bold; text-align: right;\">Row</th><th style = \"text-align: left;\">Z2 odd sector included; R freezing: true</th><th style = \"text-align: left;\">Z2 odd sector included; R freezing: false</th><th style = \"text-align: left;\">Z2 odd sector excluded; R freezing: true</th><th style = \"text-align: left;\">Z2 odd sector excluded; R freezing: false</th><th style = \"text-align: left;\">Z2 odd sector included; Ising CFT prediction</th><th style = \"text-align: left;\">Z2 odd sector excluded; Ising CFT prediction</th></tr><tr class = \"subheader headerLastRow\"><th class = \"rowNumber\" style = \"font-weight: bold; text-align: right;\"></th><th title = \"ComplexF64\" style = \"text-align: left;\">Complex…</th><th title = \"ComplexF64\" style = \"text-align: left;\">Complex…</th><th title = \"ComplexF64\" style = \"text-align: left;\">Complex…</th><th title = \"ComplexF64\" style = \"text-align: left;\">Complex…</th><th title = \"Float64\" style = \"text-align: left;\">Float64</th><th title = \"Float64\" style = \"text-align: left;\">Float64</th></tr></thead><tbody><tr><td class = \"rowNumber\" style = \"font-weight: bold; text-align: right;\">1</td><td style = \"text-align: right;\">-4.06572+0.0im</td><td style = \"text-align: right;\">-3.64961+0.0im</td><td style = \"text-align: right;\">2.00021+0.0im</td><td style = \"text-align: right;\">2.00716+0.0im</td><td style = \"text-align: right;\">3.66802</td><td style = \"text-align: right;\">2.0</td></tr><tr><td class = \"rowNumber\" style = \"font-weight: bold; text-align: right;\">2</td><td style = \"text-align: right;\">2.00021+0.0im</td><td style = \"text-align: right;\">2.00716+0.0im</td><td style = \"text-align: right;\">0.955653+0.0im</td><td style = \"text-align: right;\">0.940996+0.0im</td><td style = \"text-align: right;\">2.0</td><td style = \"text-align: right;\">1.0</td></tr><tr><td class = \"rowNumber\" style = \"font-weight: bold; text-align: right;\">3</td><td style = \"text-align: right;\">-1.57801+0.0im</td><td style = \"text-align: right;\">-1.55097+0.0im</td><td style = \"text-align: right;\">0.934431+0.0im</td><td style = \"text-align: right;\">0.938144+0.0im</td><td style = \"text-align: right;\">1.83401</td><td style = \"text-align: right;\">1.0</td></tr><tr><td class = \"rowNumber\" style = \"font-weight: bold; text-align: right;\">4</td><td style = \"text-align: right;\">-1.55885+0.0im</td><td style = \"text-align: right;\">-1.53948+0.0im</td><td style = \"text-align: right;\">0.605999+0.0im</td><td style = \"text-align: right;\">0.444071+0.0im</td><td style = \"text-align: right;\">1.83401</td><td style = \"text-align: right;\">1.0</td></tr><tr><td class = \"rowNumber\" style = \"font-weight: bold; text-align: right;\">5</td><td style = \"text-align: right;\">0.955653+0.0im</td><td style = \"text-align: right;\">0.940996+0.0im</td><td style = \"text-align: right;\">0.441224+0.0im</td><td style = \"text-align: right;\">-0.369765+0.0im</td><td style = \"text-align: right;\">1.0</td><td style = \"text-align: right;\">1.0</td></tr><tr><td class = \"rowNumber\" style = \"font-weight: bold; text-align: right;\">6</td><td style = \"text-align: right;\">0.934431+0.0im</td><td style = \"text-align: right;\">0.938144+0.0im</td><td style = \"text-align: right;\">0.34372+0.0im</td><td style = \"text-align: right;\">0.325835+0.0im</td><td style = \"text-align: right;\">1.0</td><td style = \"text-align: right;\">0.5</td></tr><tr><td class = \"rowNumber\" style = \"font-weight: bold; text-align: right;\">7</td><td style = \"text-align: right;\">-0.762359+0.0im</td><td style = \"text-align: right;\">-0.739821+0.0im</td><td style = \"text-align: right;\">0.330111+0.086746im</td><td style = \"text-align: right;\">0.313758+0.0im</td><td style = \"text-align: right;\">1.0</td><td style = \"text-align: right;\">0.5</td></tr><tr><td class = \"rowNumber\" style = \"font-weight: bold; text-align: right;\">8</td><td style = \"text-align: right;\">-0.643836+0.0im</td><td style = \"text-align: right;\">-0.529949+0.0im</td><td style = \"text-align: right;\">0.330111-0.086746im</td><td style = \"text-align: right;\">0.303789+0.0661615im</td><td style = \"text-align: right;\">1.0</td><td style = \"text-align: right;\">0.5</td></tr><tr><td class = \"rowNumber\" style = \"font-weight: bold; text-align: right;\">9</td><td style = \"text-align: right;\">0.605999+0.0im</td><td style = \"text-align: right;\">0.444071+0.0im</td><td style = \"text-align: right;\">0.34042+0.0im</td><td style = \"text-align: right;\">0.303789-0.0661615im</td><td style = \"text-align: right;\">0.917004</td><td style = \"text-align: right;\">0.5</td></tr><tr><td class = \"rowNumber\" style = \"font-weight: bold; text-align: right;\">10</td><td style = \"text-align: right;\">0.441224+0.0im</td><td style = \"text-align: right;\">-0.395739+0.0im</td><td style = \"text-align: right;\">0.310842+0.0943859im</td><td style = \"text-align: right;\">0.28976+0.0581666im</td><td style = \"text-align: right;\">0.917004</td><td style = \"text-align: right;\">0.5</td></tr><tr><td class = \"rowNumber\" style = \"font-weight: bold; text-align: right;\">11</td><td style = \"text-align: right;\">-0.395122+0.0im</td><td style = \"text-align: right;\">-0.387477+0.0im</td><td style = \"text-align: right;\">0.310842-0.0943859im</td><td style = \"text-align: right;\">0.28976-0.0581666im</td><td style = \"text-align: right;\">0.917004</td><td style = \"text-align: right;\">0.25</td></tr><tr><td class = \"rowNumber\" style = \"font-weight: bold; text-align: right;\">12</td><td style = \"text-align: right;\">-0.393041+0.0im</td><td style = \"text-align: right;\">-0.369765+0.0im</td><td style = \"text-align: right;\">0.217553+0.00360687im</td><td style = \"text-align: right;\">0.233603+0.0509881im</td><td style = \"text-align: right;\">0.5</td><td style = \"text-align: right;\">0.25</td></tr><tr><td class = \"rowNumber\" style = \"font-weight: bold; text-align: right;\">13</td><td style = \"text-align: right;\">0.34372+0.0im</td><td style = \"text-align: right;\">0.325835+0.0im</td><td style = \"text-align: right;\">0.217553-0.00360687im</td><td style = \"text-align: right;\">0.233603-0.0509881im</td><td style = \"text-align: right;\">0.5</td><td style = \"text-align: right;\">0.25</td></tr><tr><td style = \"text-align: right;\">&vellip;</td><td style = \"text-align: right;\">&vellip;</td><td style = \"text-align: right;\">&vellip;</td><td style = \"text-align: right;\">&vellip;</td><td style = \"text-align: right;\">&vellip;</td><td style = \"text-align: right;\">&vellip;</td><td style = \"text-align: right;\">&vellip;</td></tr><tr><td class = \"rowNumber\" style = \"font-weight: bold; text-align: right;\">19</td><td style = \"text-align: right;\">0.217553+0.00360687im</td><td style = \"text-align: right;\">0.264626+0.0im</td><td style = \"text-align: right;\">0.113017+0.0im</td><td style = \"text-align: right;\">-0.161287+0.0im</td><td style = \"text-align: right;\">0.458502</td><td style = \"text-align: right;\">0.25</td></tr><tr><td class = \"rowNumber\" style = \"font-weight: bold; text-align: right;\">20</td><td style = \"text-align: right;\">0.217553-0.00360687im</td><td style = \"text-align: right;\">0.233603+0.0509882im</td><td style = \"text-align: right;\">0.112194+0.0im</td><td style = \"text-align: right;\">0.146554+0.0im</td><td style = \"text-align: right;\">0.458502</td><td style = \"text-align: right;\">0.125</td></tr><tr><td class = \"rowNumber\" style = \"font-weight: bold; text-align: right;\">21</td><td style = \"text-align: right;\">-0.210035+0.0im</td><td style = \"text-align: right;\">0.233603-0.0509882im</td><td style = \"text-align: right;\">0.109037+0.0im</td><td style = \"text-align: right;\">-0.121022+0.0im</td><td style = \"text-align: right;\">0.458502</td><td style = \"text-align: right;\">0.125</td></tr><tr><td class = \"rowNumber\" style = \"font-weight: bold; text-align: right;\">22</td><td style = \"text-align: right;\">-0.199275+0.0im</td><td style = \"text-align: right;\">0.237451+0.0im</td><td style = \"text-align: right;\">-0.100912+0.0im</td><td style = \"text-align: right;\">0.11897+0.0im</td><td style = \"text-align: right;\">0.458502</td><td style = \"text-align: right;\">0.125</td></tr><tr><td class = \"rowNumber\" style = \"font-weight: bold; text-align: right;\">23</td><td style = \"text-align: right;\">-0.196169+0.0im</td><td style = \"text-align: right;\">0.225793+0.0im</td><td style = \"text-align: right;\">0.0895523+0.0im</td><td style = \"text-align: right;\">0.116449+0.0im</td><td style = \"text-align: right;\">0.25</td><td style = \"text-align: right;\">0.125</td></tr><tr><td class = \"rowNumber\" style = \"font-weight: bold; text-align: right;\">24</td><td style = \"text-align: right;\">-0.180173+0.0698246im</td><td style = \"text-align: right;\">-0.215492+0.0im</td><td style = \"text-align: right;\">-0.0739045+0.0im</td><td style = \"text-align: right;\">-0.0870844+0.0im</td><td style = \"text-align: right;\">0.25</td><td style = \"text-align: right;\">0.125</td></tr><tr><td class = \"rowNumber\" style = \"font-weight: bold; text-align: right;\">25</td><td style = \"text-align: right;\">-0.180173-0.0698246im</td><td style = \"text-align: right;\">-0.214071+0.0im</td><td style = \"text-align: right;\">-0.071141+0.0im</td><td style = \"text-align: right;\">0.0870127+0.0im</td><td style = \"text-align: right;\">0.25</td><td style = \"text-align: right;\">0.125</td></tr><tr><td class = \"rowNumber\" style = \"font-weight: bold; text-align: right;\">26</td><td style = \"text-align: right;\">-0.181019+0.0562013im</td><td style = \"text-align: right;\">0.200748+0.0im</td><td style = \"text-align: right;\">-0.0682826+0.0102614im</td><td style = \"text-align: right;\">-0.0839608+0.0im</td><td style = \"text-align: right;\">0.25</td><td style = \"text-align: right;\">0.125</td></tr><tr><td class = \"rowNumber\" style = \"font-weight: bold; text-align: right;\">27</td><td style = \"text-align: right;\">-0.181019-0.0562013im</td><td style = \"text-align: right;\">-0.193031+0.0im</td><td style = \"text-align: right;\">-0.0682826-0.0102614im</td><td style = \"text-align: right;\">-0.0744585+0.0im</td><td style = \"text-align: right;\">0.25</td><td style = \"text-align: right;\">0.125</td></tr><tr><td class = \"rowNumber\" style = \"font-weight: bold; text-align: right;\">28</td><td style = \"text-align: right;\">0.186743+0.0im</td><td style = \"text-align: right;\">-0.187933+0.0im</td><td style = \"text-align: right;\">0.0647118+0.0im</td><td style = \"text-align: right;\">-0.0702299+0.0im</td><td style = \"text-align: right;\">0.25</td><td style = \"text-align: right;\">0.125</td></tr><tr><td class = \"rowNumber\" style = \"font-weight: bold; text-align: right;\">29</td><td style = \"text-align: right;\">-0.145026+0.0im</td><td style = \"text-align: right;\">0.186393+0.0im</td><td style = \"text-align: right;\">-0.0617219+0.0im</td><td style = \"text-align: right;\">0.0695426+0.0im</td><td style = \"text-align: right;\">0.25</td><td style = \"text-align: right;\">0.125</td></tr><tr><td class = \"rowNumber\" style = \"font-weight: bold; text-align: right;\">30</td><td style = \"text-align: right;\">-0.140302+0.0im</td><td style = \"text-align: right;\">0.185252+0.0im</td><td style = \"text-align: right;\">0.0601062+0.0im</td><td style = \"text-align: right;\">-0.0676192+0.0im</td><td style = \"text-align: right;\">0.25</td><td style = \"text-align: right;\">0.125</td></tr></tbody></table></div>"
      ],
      "text/latex": [
       "\\begin{tabular}{r|ccc}\n",
       "\t& Z2 odd sector included; R freezing: true & Z2 odd sector included; R freezing: false & \\\\\n",
       "\t\\hline\n",
       "\t& Complex… & Complex… & \\\\\n",
       "\t\\hline\n",
       "\t1 & -4.06572+0.0im & -3.64961+0.0im & $\\dots$ \\\\\n",
       "\t2 & 2.00021+0.0im & 2.00716+0.0im & $\\dots$ \\\\\n",
       "\t3 & -1.57801+0.0im & -1.55097+0.0im & $\\dots$ \\\\\n",
       "\t4 & -1.55885+0.0im & -1.53948+0.0im & $\\dots$ \\\\\n",
       "\t5 & 0.955653+0.0im & 0.940996+0.0im & $\\dots$ \\\\\n",
       "\t6 & 0.934431+0.0im & 0.938144+0.0im & $\\dots$ \\\\\n",
       "\t7 & -0.762359+0.0im & -0.739821+0.0im & $\\dots$ \\\\\n",
       "\t8 & -0.643836+0.0im & -0.529949+0.0im & $\\dots$ \\\\\n",
       "\t9 & 0.605999+0.0im & 0.444071+0.0im & $\\dots$ \\\\\n",
       "\t10 & 0.441224+0.0im & -0.395739+0.0im & $\\dots$ \\\\\n",
       "\t11 & -0.395122+0.0im & -0.387477+0.0im & $\\dots$ \\\\\n",
       "\t12 & -0.393041+0.0im & -0.369765+0.0im & $\\dots$ \\\\\n",
       "\t13 & 0.34372+0.0im & 0.325835+0.0im & $\\dots$ \\\\\n",
       "\t14 & 0.330111+0.086746im & 0.313758+0.0im & $\\dots$ \\\\\n",
       "\t15 & 0.330111-0.086746im & 0.303789+0.0661615im & $\\dots$ \\\\\n",
       "\t16 & 0.34042+0.0im & 0.303789-0.0661615im & $\\dots$ \\\\\n",
       "\t17 & 0.310842+0.0943859im & 0.28976+0.0581666im & $\\dots$ \\\\\n",
       "\t18 & 0.310842-0.0943859im & 0.28976-0.0581666im & $\\dots$ \\\\\n",
       "\t19 & 0.217553+0.00360687im & 0.264626+0.0im & $\\dots$ \\\\\n",
       "\t20 & 0.217553-0.00360687im & 0.233603+0.0509882im & $\\dots$ \\\\\n",
       "\t21 & -0.210035+0.0im & 0.233603-0.0509882im & $\\dots$ \\\\\n",
       "\t22 & -0.199275+0.0im & 0.237451+0.0im & $\\dots$ \\\\\n",
       "\t23 & -0.196169+0.0im & 0.225793+0.0im & $\\dots$ \\\\\n",
       "\t24 & -0.180173+0.0698246im & -0.215492+0.0im & $\\dots$ \\\\\n",
       "\t$\\dots$ & $\\dots$ & $\\dots$ &  \\\\\n",
       "\\end{tabular}\n"
      ],
      "text/plain": [
       "\u001b[1m30×6 DataFrame\u001b[0m\n",
       "\u001b[1m Row \u001b[0m│\u001b[1m Z2 odd sector included; R freezing: true \u001b[0m\u001b[1m Z2 odd sector included; R fre\u001b[0m ⋯\n",
       "     │\u001b[90m ComplexF64                               \u001b[0m\u001b[90m ComplexF64                   \u001b[0m ⋯\n",
       "─────┼──────────────────────────────────────────────────────────────────────────\n",
       "   1 │                    -4.06572+0.0im                              -3.64961 ⋯\n",
       "   2 │                     2.00021+0.0im                               2.00716\n",
       "   3 │                    -1.57801+0.0im                              -1.55097\n",
       "   4 │                    -1.55885+0.0im                              -1.53948\n",
       "   5 │                    0.955653+0.0im                              0.940996 ⋯\n",
       "   6 │                    0.934431+0.0im                              0.938144\n",
       "   7 │                   -0.762359+0.0im                             -0.739821\n",
       "   8 │                   -0.643836+0.0im                             -0.529949\n",
       "  ⋮  │                    ⋮                                          ⋮         ⋱\n",
       "  24 │                   -0.180173+0.0698246im                       -0.215492 ⋯\n",
       "  25 │                   -0.180173-0.0698246im                       -0.214071\n",
       "  26 │                   -0.181019+0.0562013im                        0.200748\n",
       "  27 │                   -0.181019-0.0562013im                       -0.193031\n",
       "  28 │                    0.186743+0.0im                             -0.187933 ⋯\n",
       "  29 │                   -0.145026+0.0im                              0.186393\n",
       "  30 │                   -0.140302+0.0im                              0.185252\n",
       "\u001b[36m                                                   5 columns and 15 rows omitted\u001b[0m"
      ]
     },
     "metadata": {},
     "output_type": "display_data"
    }
   ],
   "source": [
    "id_no_rotation_tt = \"eigensystems/\" * gilt_pars_identifier(gilt_pars) * \"__Z2_odd_sector=true_freeze_R=true_eigensystem.data\"\n",
    "id_no_rotation_tf = \"eigensystems/\" * gilt_pars_identifier(gilt_pars) * \"__Z2_odd_sector=true_freeze_R=false_eigensystem.data\"\n",
    "id_no_rotation_ft = \"eigensystems/\" * gilt_pars_identifier(gilt_pars) * \"__Z2_odd_sector=false_freeze_R=true_eigensystem.data\"\n",
    "id_no_rotation_ff = \"eigensystems/\" * gilt_pars_identifier(gilt_pars) * \"__Z2_odd_sector=false_freeze_R=false_eigensystem.data\"\n",
    "\n",
    "\n",
    "spectrum_Z2T_FT = deserialize(id_no_rotation_tt)[\"eigensystem\"][1]\n",
    "spectrum_Z2T_FF = deserialize(id_no_rotation_tf)[\"eigensystem\"][1]\n",
    "spectrum_Z2F_FT = deserialize(id_no_rotation_ft)[\"eigensystem\"][1]\n",
    "spectrum_Z2F_FF = deserialize(id_no_rotation_ff)[\"eigensystem\"][1];\n",
    "\n",
    "specs = DataFrame()\n",
    "specs[:, \"Z2 odd sector included; R freezing: true\"] = spectrum_Z2T_FT[1:30]\n",
    "specs[:, \"Z2 odd sector included; R freezing: false\"] = spectrum_Z2T_FF[1:30]\n",
    "specs[:, \"Z2 odd sector excluded; R freezing: true\"] = spectrum_Z2F_FT[1:30]\n",
    "specs[:, \"Z2 odd sector excluded; R freezing: false\"] = spectrum_Z2F_FF[1:30]\n",
    "specs[:, \"Z2 odd sector included; Ising CFT prediction\"] = 2 .^ (2 .- exact_spectrum(31)[2:end])\n",
    "specs[:, \"Z2 odd sector excluded; Ising CFT prediction\"] = 2 .^ (2 .- exact_spectrum_even(31)[2:end])\n",
    "\n",
    "CSV.write(\"export/spectra_chi=$chi.csv\", specs)\n",
    "specs"
   ]
  },
  {
   "cell_type": "markdown",
   "metadata": {},
   "source": [
    "## Spectrum of the jacobian after newton for Gilt with rotation"
   ]
  },
  {
   "cell_type": "code",
   "execution_count": 31,
   "metadata": {},
   "outputs": [
    {
     "data": {
      "text/html": [
       "<div><div style = \"float: left;\"><span>31×1 DataFrame</span></div><div style = \"float: right;\"><span style = \"font-style: italic;\">6 rows omitted</span></div><div style = \"clear: both;\"></div></div><div class = \"data-frame\" style = \"overflow-x: scroll;\"><table class = \"data-frame\" style = \"margin-bottom: 6px;\"><thead><tr class = \"header\"><th class = \"rowNumber\" style = \"font-weight: bold; text-align: right;\">Row</th><th style = \"text-align: left;\">chi=10</th></tr><tr class = \"subheader headerLastRow\"><th class = \"rowNumber\" style = \"font-weight: bold; text-align: right;\"></th><th title = \"ComplexF64\" style = \"text-align: left;\">Complex…</th></tr></thead><tbody><tr><td class = \"rowNumber\" style = \"font-weight: bold; text-align: right;\">1</td><td style = \"text-align: right;\">2.00745+0.0im</td></tr><tr><td class = \"rowNumber\" style = \"font-weight: bold; text-align: right;\">2</td><td style = \"text-align: right;\">-0.940972+0.0im</td></tr><tr><td class = \"rowNumber\" style = \"font-weight: bold; text-align: right;\">3</td><td style = \"text-align: right;\">-0.936125+0.0im</td></tr><tr><td class = \"rowNumber\" style = \"font-weight: bold; text-align: right;\">4</td><td style = \"text-align: right;\">0.444238+0.0im</td></tr><tr><td class = \"rowNumber\" style = \"font-weight: bold; text-align: right;\">5</td><td style = \"text-align: right;\">-0.362702+0.0im</td></tr><tr><td class = \"rowNumber\" style = \"font-weight: bold; text-align: right;\">6</td><td style = \"text-align: right;\">-2.78652e-7+0.318294im</td></tr><tr><td class = \"rowNumber\" style = \"font-weight: bold; text-align: right;\">7</td><td style = \"text-align: right;\">-2.78652e-7-0.318294im</td></tr><tr><td class = \"rowNumber\" style = \"font-weight: bold; text-align: right;\">8</td><td style = \"text-align: right;\">0.0627632+0.295995im</td></tr><tr><td class = \"rowNumber\" style = \"font-weight: bold; text-align: right;\">9</td><td style = \"text-align: right;\">0.0627632-0.295995im</td></tr><tr><td class = \"rowNumber\" style = \"font-weight: bold; text-align: right;\">10</td><td style = \"text-align: right;\">-0.0627493+0.295998im</td></tr><tr><td class = \"rowNumber\" style = \"font-weight: bold; text-align: right;\">11</td><td style = \"text-align: right;\">-0.0627493-0.295998im</td></tr><tr><td class = \"rowNumber\" style = \"font-weight: bold; text-align: right;\">12</td><td style = \"text-align: right;\">0.234214+0.0499112im</td></tr><tr><td class = \"rowNumber\" style = \"font-weight: bold; text-align: right;\">13</td><td style = \"text-align: right;\">0.234214-0.0499112im</td></tr><tr><td style = \"text-align: right;\">&vellip;</td><td style = \"text-align: right;\">&vellip;</td></tr><tr><td class = \"rowNumber\" style = \"font-weight: bold; text-align: right;\">20</td><td style = \"text-align: right;\">-0.149251+0.0im</td></tr><tr><td class = \"rowNumber\" style = \"font-weight: bold; text-align: right;\">21</td><td style = \"text-align: right;\">0.120456+0.0im</td></tr><tr><td class = \"rowNumber\" style = \"font-weight: bold; text-align: right;\">22</td><td style = \"text-align: right;\">-0.119266+0.0im</td></tr><tr><td class = \"rowNumber\" style = \"font-weight: bold; text-align: right;\">23</td><td style = \"text-align: right;\">0.116603+0.0im</td></tr><tr><td class = \"rowNumber\" style = \"font-weight: bold; text-align: right;\">24</td><td style = \"text-align: right;\">0.087014+0.0im</td></tr><tr><td class = \"rowNumber\" style = \"font-weight: bold; text-align: right;\">25</td><td style = \"text-align: right;\">0.0849041+0.0im</td></tr><tr><td class = \"rowNumber\" style = \"font-weight: bold; text-align: right;\">26</td><td style = \"text-align: right;\">0.00186427+0.0733834im</td></tr><tr><td class = \"rowNumber\" style = \"font-weight: bold; text-align: right;\">27</td><td style = \"text-align: right;\">0.00186427-0.0733834im</td></tr><tr><td class = \"rowNumber\" style = \"font-weight: bold; text-align: right;\">28</td><td style = \"text-align: right;\">-0.00187008+0.0733361im</td></tr><tr><td class = \"rowNumber\" style = \"font-weight: bold; text-align: right;\">29</td><td style = \"text-align: right;\">-0.00187008-0.0733361im</td></tr><tr><td class = \"rowNumber\" style = \"font-weight: bold; text-align: right;\">30</td><td style = \"text-align: right;\">0.0699552+0.0im</td></tr><tr><td class = \"rowNumber\" style = \"font-weight: bold; text-align: right;\">31</td><td style = \"text-align: right;\">0.0652758+0.0im</td></tr></tbody></table></div>"
      ],
      "text/latex": [
       "\\begin{tabular}{r|c}\n",
       "\t& chi=10\\\\\n",
       "\t\\hline\n",
       "\t& Complex…\\\\\n",
       "\t\\hline\n",
       "\t1 & 2.00745+0.0im \\\\\n",
       "\t2 & -0.940972+0.0im \\\\\n",
       "\t3 & -0.936125+0.0im \\\\\n",
       "\t4 & 0.444238+0.0im \\\\\n",
       "\t5 & -0.362702+0.0im \\\\\n",
       "\t6 & -2.78652e-7+0.318294im \\\\\n",
       "\t7 & -2.78652e-7-0.318294im \\\\\n",
       "\t8 & 0.0627632+0.295995im \\\\\n",
       "\t9 & 0.0627632-0.295995im \\\\\n",
       "\t10 & -0.0627493+0.295998im \\\\\n",
       "\t11 & -0.0627493-0.295998im \\\\\n",
       "\t12 & 0.234214+0.0499112im \\\\\n",
       "\t13 & 0.234214-0.0499112im \\\\\n",
       "\t14 & 0.225037+0.0im \\\\\n",
       "\t15 & 2.0394e-5+0.19425im \\\\\n",
       "\t16 & 2.0394e-5-0.19425im \\\\\n",
       "\t17 & -0.189143+0.0im \\\\\n",
       "\t18 & 0.185526+0.0im \\\\\n",
       "\t19 & -0.1587+0.0im \\\\\n",
       "\t20 & -0.149251+0.0im \\\\\n",
       "\t21 & 0.120456+0.0im \\\\\n",
       "\t22 & -0.119266+0.0im \\\\\n",
       "\t23 & 0.116603+0.0im \\\\\n",
       "\t24 & 0.087014+0.0im \\\\\n",
       "\t$\\dots$ & $\\dots$ \\\\\n",
       "\\end{tabular}\n"
      ],
      "text/plain": [
       "\u001b[1m31×1 DataFrame\u001b[0m\n",
       "\u001b[1m Row \u001b[0m│\u001b[1m chi=10                  \u001b[0m\n",
       "     │\u001b[90m Complex…                \u001b[0m\n",
       "─────┼─────────────────────────\n",
       "   1 │     2.00745+0.0im\n",
       "   2 │   -0.940972+0.0im\n",
       "   3 │   -0.936125+0.0im\n",
       "   4 │    0.444238+0.0im\n",
       "   5 │   -0.362702+0.0im\n",
       "   6 │ -2.78652e-7+0.318294im\n",
       "   7 │ -2.78652e-7-0.318294im\n",
       "   8 │   0.0627632+0.295995im\n",
       "  ⋮  │            ⋮\n",
       "  25 │   0.0849041+0.0im\n",
       "  26 │  0.00186427+0.0733834im\n",
       "  27 │  0.00186427-0.0733834im\n",
       "  28 │ -0.00187008+0.0733361im\n",
       "  29 │ -0.00187008-0.0733361im\n",
       "  30 │   0.0699552+0.0im\n",
       "  31 │   0.0652758+0.0im\n",
       "\u001b[36m                16 rows omitted\u001b[0m"
      ]
     },
     "metadata": {},
     "output_type": "display_data"
    }
   ],
   "source": [
    "newton_result = deserialize(\"newton/\" * gilt_pars_identifier(gilt_pars_r) * \"__newton_result.data\")\n",
    "specs = DataFrame()\n",
    "specs[:, \"chi=$chi\"] = newton_result[\"eigensystem\"][1]\n",
    "\n",
    "CSV.write(\"export/spectrum_chi=$(chi)_after_newton.csv\", specs)\n",
    "specs\n"
   ]
  },
  {
   "cell_type": "code",
   "execution_count": null,
   "metadata": {},
   "outputs": [],
   "source": []
  }
 ],
 "metadata": {
  "kernelspec": {
   "display_name": "Julia 1.10.2",
   "language": "julia",
   "name": "julia-1.10"
  },
  "language_info": {
   "file_extension": ".jl",
   "mimetype": "application/julia",
   "name": "julia",
   "version": "1.10.2"
  }
 },
 "nbformat": 4,
 "nbformat_minor": 2
}
