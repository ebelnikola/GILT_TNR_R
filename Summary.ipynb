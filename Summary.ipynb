{
 "cells": [
  {
   "cell_type": "code",
   "execution_count": 1,
   "metadata": {},
   "outputs": [],
   "source": [
    "include(\"Tools.jl\");\n",
    "include(\"GaugeFixing.jl\")\n",
    "include(\"KrylovTechnical.jl\")\n",
    "using DataFrames, CSV;"
   ]
  },
  {
   "cell_type": "markdown",
   "metadata": {},
   "source": [
    "Note that this notebook does not evaluate anything. It only loads, displays, and saves in a human friendly format the precomputed results."
   ]
  },
  {
   "cell_type": "code",
   "execution_count": 2,
   "metadata": {},
   "outputs": [],
   "source": [
    "#CHOOSE YOUR VALUES HERE####\n",
    "############################\n",
    "chi = 30                  ##\n",
    "gilt_eps = 4e-6           ##\n",
    "############################\n",
    "############################\n",
    "\n",
    "gilt_pars = Dict(\n",
    "    \"gilt_eps\" => gilt_eps,\n",
    "    \"cg_chis\" => collect(1:chi),\n",
    "    \"cg_eps\" => 1e-10,\n",
    "    \"verbosity\" => 0,\n",
    "    \"rotate\" => false\n",
    ")\n",
    "gilt_pars_r = Dict(\n",
    "    \"gilt_eps\" => gilt_eps,\n",
    "    \"cg_chis\" => collect(1:chi),\n",
    "    \"cg_eps\" => 1e-10,\n",
    "    \"verbosity\" => 0,\n",
    "    \"rotate\" => true\n",
    ");\n"
   ]
  },
  {
   "cell_type": "markdown",
   "metadata": {},
   "source": [
    "## Critical temperature with and without rotation (10 digits ):"
   ]
  },
  {
   "cell_type": "code",
   "execution_count": 3,
   "metadata": {},
   "outputs": [
    {
     "name": "stdout",
     "output_type": "stream",
     "text": [
      "             relT lower bound   |  relT higher bound  | relT mean value\n",
      "no rotation  1.0000112570822237  |  1.0000112571567294  | 1.0000112571194766\n",
      "   rotation  1.0000091544538736 |  1.0000091545283796 | 1.0000091544911265\n"
     ]
    }
   ],
   "source": [
    "id = gilt_pars_identifier(gilt_pars)\n",
    "id_r = gilt_pars_identifier(gilt_pars_r)\n",
    "\n",
    "crit_pars = deserialize(\"critical_temperatures/\" * id * \"__tol=1.0e-10.data\")\n",
    "crit_pars_r = deserialize(\"critical_temperatures/\" * id_r * \"__tol=1.0e-10.data\")\n",
    "\n",
    "println(\"             \", \"relT lower bound   |  relT higher bound  | relT mean value\")\n",
    "println(\"no rotation  \", crit_pars[1], \"  |  \", crit_pars[2], \"  | \", (crit_pars[1] + crit_pars[2]) / 2)\n",
    "println(\"   rotation  \", crit_pars_r[1], \" |  \", crit_pars_r[2], \" | \", (crit_pars_r[1] + crit_pars_r[2]) / 2)"
   ]
  },
  {
   "cell_type": "markdown",
   "metadata": {},
   "source": [
    "# Spectra of the jacobian at the approximate fixed point (no rotation)"
   ]
  },
  {
   "cell_type": "code",
   "execution_count": 4,
   "metadata": {},
   "outputs": [
    {
     "data": {
      "text/html": [
       "<div><div style = \"float: left;\"><span>30×6 DataFrame</span></div><div style = \"float: right;\"><span style = \"font-style: italic;\">5 rows omitted</span></div><div style = \"clear: both;\"></div></div><div class = \"data-frame\" style = \"overflow-x: scroll;\"><table class = \"data-frame\" style = \"margin-bottom: 6px;\"><thead><tr class = \"header\"><th class = \"rowNumber\" style = \"font-weight: bold; text-align: right;\">Row</th><th style = \"text-align: left;\">Z2 odd sector included; R freezing: true</th><th style = \"text-align: left;\">Z2 odd sector included; R freezing: false</th><th style = \"text-align: left;\">Z2 odd sector excluded; R freezing: true</th><th style = \"text-align: left;\">Z2 odd sector excluded; R freezing: false</th><th style = \"text-align: left;\">Z2 odd sector included; Ising CFT prediction</th><th style = \"text-align: left;\">Z2 odd sector excluded; Ising CFT prediction</th></tr><tr class = \"subheader headerLastRow\"><th class = \"rowNumber\" style = \"font-weight: bold; text-align: right;\"></th><th title = \"ComplexF64\" style = \"text-align: left;\">Complex…</th><th title = \"ComplexF64\" style = \"text-align: left;\">Complex…</th><th title = \"ComplexF64\" style = \"text-align: left;\">Complex…</th><th title = \"ComplexF64\" style = \"text-align: left;\">Complex…</th><th title = \"Float64\" style = \"text-align: left;\">Float64</th><th title = \"Float64\" style = \"text-align: left;\">Float64</th></tr></thead><tbody><tr><td class = \"rowNumber\" style = \"font-weight: bold; text-align: right;\">1</td><td style = \"text-align: right;\">4.63462+0.0im</td><td style = \"text-align: right;\">3.66778+0.0im</td><td style = \"text-align: right;\">2.00874+0.0im</td><td style = \"text-align: right;\">1.99953+0.0im</td><td style = \"text-align: right;\">3.66802</td><td style = \"text-align: right;\">2.0</td></tr><tr><td class = \"rowNumber\" style = \"font-weight: bold; text-align: right;\">2</td><td style = \"text-align: right;\">4.01798+0.0im</td><td style = \"text-align: right;\">1.99953+0.0im</td><td style = \"text-align: right;\">1.00103+0.0im</td><td style = \"text-align: right;\">1.0031+0.0im</td><td style = \"text-align: right;\">2.0</td><td style = \"text-align: right;\">1.0</td></tr><tr><td class = \"rowNumber\" style = \"font-weight: bold; text-align: right;\">3</td><td style = \"text-align: right;\">2.00874+0.0im</td><td style = \"text-align: right;\">1.52863+0.0im</td><td style = \"text-align: right;\">0.999168+0.0im</td><td style = \"text-align: right;\">0.99775+0.0im</td><td style = \"text-align: right;\">1.83401</td><td style = \"text-align: right;\">1.0</td></tr><tr><td class = \"rowNumber\" style = \"font-weight: bold; text-align: right;\">4</td><td style = \"text-align: right;\">1.55435+0.0im</td><td style = \"text-align: right;\">1.52666+0.0im</td><td style = \"text-align: right;\">0.806472+0.0409706im</td><td style = \"text-align: right;\">0.652633+0.0im</td><td style = \"text-align: right;\">1.83401</td><td style = \"text-align: right;\">1.0</td></tr><tr><td class = \"rowNumber\" style = \"font-weight: bold; text-align: right;\">5</td><td style = \"text-align: right;\">1.49706+0.0im</td><td style = \"text-align: right;\">1.00311+0.0im</td><td style = \"text-align: right;\">0.806472-0.0409706im</td><td style = \"text-align: right;\">0.585554+0.0470158im</td><td style = \"text-align: right;\">1.0</td><td style = \"text-align: right;\">1.0</td></tr><tr><td class = \"rowNumber\" style = \"font-weight: bold; text-align: right;\">6</td><td style = \"text-align: right;\">-1.23771+0.0im</td><td style = \"text-align: right;\">0.997752+0.0im</td><td style = \"text-align: right;\">0.662525+0.0im</td><td style = \"text-align: right;\">0.585554-0.0470158im</td><td style = \"text-align: right;\">1.0</td><td style = \"text-align: right;\">0.5</td></tr><tr><td class = \"rowNumber\" style = \"font-weight: bold; text-align: right;\">7</td><td style = \"text-align: right;\">1.08866+0.0im</td><td style = \"text-align: right;\">0.880788+0.0im</td><td style = \"text-align: right;\">0.558412+0.0im</td><td style = \"text-align: right;\">0.441163+0.160744im</td><td style = \"text-align: right;\">1.0</td><td style = \"text-align: right;\">0.5</td></tr><tr><td class = \"rowNumber\" style = \"font-weight: bold; text-align: right;\">8</td><td style = \"text-align: right;\">1.00103+0.0im</td><td style = \"text-align: right;\">0.652281+0.0im</td><td style = \"text-align: right;\">0.525541+0.0480959im</td><td style = \"text-align: right;\">0.441163-0.160744im</td><td style = \"text-align: right;\">1.0</td><td style = \"text-align: right;\">0.5</td></tr><tr><td class = \"rowNumber\" style = \"font-weight: bold; text-align: right;\">9</td><td style = \"text-align: right;\">0.999168+0.0im</td><td style = \"text-align: right;\">0.586155+0.0398435im</td><td style = \"text-align: right;\">0.525541-0.0480959im</td><td style = \"text-align: right;\">0.378187+0.14452im</td><td style = \"text-align: right;\">0.917004</td><td style = \"text-align: right;\">0.5</td></tr><tr><td class = \"rowNumber\" style = \"font-weight: bold; text-align: right;\">10</td><td style = \"text-align: right;\">0.982384+0.0im</td><td style = \"text-align: right;\">0.586155-0.0398435im</td><td style = \"text-align: right;\">0.455252+0.0267045im</td><td style = \"text-align: right;\">0.378187-0.14452im</td><td style = \"text-align: right;\">0.917004</td><td style = \"text-align: right;\">0.5</td></tr><tr><td class = \"rowNumber\" style = \"font-weight: bold; text-align: right;\">11</td><td style = \"text-align: right;\">-0.833359+0.0im</td><td style = \"text-align: right;\">0.540201+0.136725im</td><td style = \"text-align: right;\">0.455252-0.0267045im</td><td style = \"text-align: right;\">0.404607+0.0im</td><td style = \"text-align: right;\">0.917004</td><td style = \"text-align: right;\">0.25</td></tr><tr><td class = \"rowNumber\" style = \"font-weight: bold; text-align: right;\">12</td><td style = \"text-align: right;\">0.806472+0.0409705im</td><td style = \"text-align: right;\">0.540201-0.136725im</td><td style = \"text-align: right;\">0.377629+0.0im</td><td style = \"text-align: right;\">0.382732+0.0im</td><td style = \"text-align: right;\">0.5</td><td style = \"text-align: right;\">0.25</td></tr><tr><td class = \"rowNumber\" style = \"font-weight: bold; text-align: right;\">13</td><td style = \"text-align: right;\">0.806472-0.0409705im</td><td style = \"text-align: right;\">0.525639+0.0im</td><td style = \"text-align: right;\">0.347424+0.0484908im</td><td style = \"text-align: right;\">-0.349433+0.0im</td><td style = \"text-align: right;\">0.5</td><td style = \"text-align: right;\">0.25</td></tr><tr><td style = \"text-align: right;\">&vellip;</td><td style = \"text-align: right;\">&vellip;</td><td style = \"text-align: right;\">&vellip;</td><td style = \"text-align: right;\">&vellip;</td><td style = \"text-align: right;\">&vellip;</td><td style = \"text-align: right;\">&vellip;</td><td style = \"text-align: right;\">&vellip;</td></tr><tr><td class = \"rowNumber\" style = \"font-weight: bold; text-align: right;\">19</td><td style = \"text-align: right;\">0.553271-0.0309944im</td><td style = \"text-align: right;\">0.419381+0.0im</td><td style = \"text-align: right;\">0.299421+0.0im</td><td style = \"text-align: right;\">0.281028-0.0407584im</td><td style = \"text-align: right;\">0.458502</td><td style = \"text-align: right;\">0.25</td></tr><tr><td class = \"rowNumber\" style = \"font-weight: bold; text-align: right;\">20</td><td style = \"text-align: right;\">0.525541+0.0480964im</td><td style = \"text-align: right;\">0.379644+0.14542im</td><td style = \"text-align: right;\">0.259314+0.0im</td><td style = \"text-align: right;\">0.264814+0.0799386im</td><td style = \"text-align: right;\">0.458502</td><td style = \"text-align: right;\">0.125</td></tr><tr><td class = \"rowNumber\" style = \"font-weight: bold; text-align: right;\">21</td><td style = \"text-align: right;\">0.525541-0.0480964im</td><td style = \"text-align: right;\">0.379644-0.14542im</td><td style = \"text-align: right;\">0.251512+0.00475473im</td><td style = \"text-align: right;\">0.264814-0.0799386im</td><td style = \"text-align: right;\">0.458502</td><td style = \"text-align: right;\">0.125</td></tr><tr><td class = \"rowNumber\" style = \"font-weight: bold; text-align: right;\">22</td><td style = \"text-align: right;\">0.48184+0.0im</td><td style = \"text-align: right;\">0.405833+0.0im</td><td style = \"text-align: right;\">0.251512-0.00475473im</td><td style = \"text-align: right;\">0.249324+0.0958688im</td><td style = \"text-align: right;\">0.458502</td><td style = \"text-align: right;\">0.125</td></tr><tr><td class = \"rowNumber\" style = \"font-weight: bold; text-align: right;\">23</td><td style = \"text-align: right;\">0.468028+0.0im</td><td style = \"text-align: right;\">0.382671+0.0im</td><td style = \"text-align: right;\">0.210986+0.129671im</td><td style = \"text-align: right;\">0.249324-0.0958688im</td><td style = \"text-align: right;\">0.25</td><td style = \"text-align: right;\">0.125</td></tr><tr><td class = \"rowNumber\" style = \"font-weight: bold; text-align: right;\">24</td><td style = \"text-align: right;\">0.455252+0.0267045im</td><td style = \"text-align: right;\">-0.34919+0.0im</td><td style = \"text-align: right;\">0.210986-0.129671im</td><td style = \"text-align: right;\">0.251122+0.0im</td><td style = \"text-align: right;\">0.25</td><td style = \"text-align: right;\">0.125</td></tr><tr><td class = \"rowNumber\" style = \"font-weight: bold; text-align: right;\">25</td><td style = \"text-align: right;\">0.455252-0.0267045im</td><td style = \"text-align: right;\">0.332947+0.0232946im</td><td style = \"text-align: right;\">0.196419+0.130805im</td><td style = \"text-align: right;\">0.243799+0.0im</td><td style = \"text-align: right;\">0.25</td><td style = \"text-align: right;\">0.125</td></tr><tr><td class = \"rowNumber\" style = \"font-weight: bold; text-align: right;\">26</td><td style = \"text-align: right;\">0.455904+0.00656656im</td><td style = \"text-align: right;\">0.332947-0.0232946im</td><td style = \"text-align: right;\">0.196419-0.130805im</td><td style = \"text-align: right;\">0.239943+0.0im</td><td style = \"text-align: right;\">0.25</td><td style = \"text-align: right;\">0.125</td></tr><tr><td class = \"rowNumber\" style = \"font-weight: bold; text-align: right;\">27</td><td style = \"text-align: right;\">0.455904-0.00656656im</td><td style = \"text-align: right;\">0.315322+0.0537308im</td><td style = \"text-align: right;\">0.225087+0.00309993im</td><td style = \"text-align: right;\">0.199921+0.0im</td><td style = \"text-align: right;\">0.25</td><td style = \"text-align: right;\">0.125</td></tr><tr><td class = \"rowNumber\" style = \"font-weight: bold; text-align: right;\">28</td><td style = \"text-align: right;\">0.377629+0.0im</td><td style = \"text-align: right;\">0.315322-0.0537308im</td><td style = \"text-align: right;\">0.225087-0.00309993im</td><td style = \"text-align: right;\">0.193523+0.0395747im</td><td style = \"text-align: right;\">0.25</td><td style = \"text-align: right;\">0.125</td></tr><tr><td class = \"rowNumber\" style = \"font-weight: bold; text-align: right;\">29</td><td style = \"text-align: right;\">0.347424+0.0484908im</td><td style = \"text-align: right;\">-0.313937+0.0im</td><td style = \"text-align: right;\">0.220429+0.0im</td><td style = \"text-align: right;\">0.193523-0.0395747im</td><td style = \"text-align: right;\">0.25</td><td style = \"text-align: right;\">0.125</td></tr><tr><td class = \"rowNumber\" style = \"font-weight: bold; text-align: right;\">30</td><td style = \"text-align: right;\">0.347424-0.0484908im</td><td style = \"text-align: right;\">0.293313+0.0im</td><td style = \"text-align: right;\">0.180964+0.0im</td><td style = \"text-align: right;\">0.182502+0.0734221im</td><td style = \"text-align: right;\">0.25</td><td style = \"text-align: right;\">0.125</td></tr></tbody></table></div>"
      ],
      "text/latex": [
       "\\begin{tabular}{r|ccc}\n",
       "\t& Z2 odd sector included; R freezing: true & Z2 odd sector included; R freezing: false & \\\\\n",
       "\t\\hline\n",
       "\t& Complex… & Complex… & \\\\\n",
       "\t\\hline\n",
       "\t1 & 4.63462+0.0im & 3.66778+0.0im & $\\dots$ \\\\\n",
       "\t2 & 4.01798+0.0im & 1.99953+0.0im & $\\dots$ \\\\\n",
       "\t3 & 2.00874+0.0im & 1.52863+0.0im & $\\dots$ \\\\\n",
       "\t4 & 1.55435+0.0im & 1.52666+0.0im & $\\dots$ \\\\\n",
       "\t5 & 1.49706+0.0im & 1.00311+0.0im & $\\dots$ \\\\\n",
       "\t6 & -1.23771+0.0im & 0.997752+0.0im & $\\dots$ \\\\\n",
       "\t7 & 1.08866+0.0im & 0.880788+0.0im & $\\dots$ \\\\\n",
       "\t8 & 1.00103+0.0im & 0.652281+0.0im & $\\dots$ \\\\\n",
       "\t9 & 0.999168+0.0im & 0.586155+0.0398435im & $\\dots$ \\\\\n",
       "\t10 & 0.982384+0.0im & 0.586155-0.0398435im & $\\dots$ \\\\\n",
       "\t11 & -0.833359+0.0im & 0.540201+0.136725im & $\\dots$ \\\\\n",
       "\t12 & 0.806472+0.0409705im & 0.540201-0.136725im & $\\dots$ \\\\\n",
       "\t13 & 0.806472-0.0409705im & 0.525639+0.0im & $\\dots$ \\\\\n",
       "\t14 & 0.798108+0.0im & 0.474885+0.0im & $\\dots$ \\\\\n",
       "\t15 & 0.665579+0.0im & 0.439763+0.160466im & $\\dots$ \\\\\n",
       "\t16 & 0.662525+0.0im & 0.439763-0.160466im & $\\dots$ \\\\\n",
       "\t17 & 0.558412+0.0im & 0.455213+0.0im & $\\dots$ \\\\\n",
       "\t18 & 0.553271+0.0309944im & 0.452972+0.0im & $\\dots$ \\\\\n",
       "\t19 & 0.553271-0.0309944im & 0.419381+0.0im & $\\dots$ \\\\\n",
       "\t20 & 0.525541+0.0480964im & 0.379644+0.14542im & $\\dots$ \\\\\n",
       "\t21 & 0.525541-0.0480964im & 0.379644-0.14542im & $\\dots$ \\\\\n",
       "\t22 & 0.48184+0.0im & 0.405833+0.0im & $\\dots$ \\\\\n",
       "\t23 & 0.468028+0.0im & 0.382671+0.0im & $\\dots$ \\\\\n",
       "\t24 & 0.455252+0.0267045im & -0.34919+0.0im & $\\dots$ \\\\\n",
       "\t$\\dots$ & $\\dots$ & $\\dots$ &  \\\\\n",
       "\\end{tabular}\n"
      ],
      "text/plain": [
       "\u001b[1m30×6 DataFrame\u001b[0m\n",
       "\u001b[1m Row \u001b[0m│\u001b[1m Z2 odd sector included; R freezing: true \u001b[0m\u001b[1m Z2 odd sector included; R fre\u001b[0m ⋯\n",
       "     │\u001b[90m ComplexF64                               \u001b[0m\u001b[90m ComplexF64                   \u001b[0m ⋯\n",
       "─────┼──────────────────────────────────────────────────────────────────────────\n",
       "   1 │                     4.63462+0.0im                               3.66778 ⋯\n",
       "   2 │                     4.01798+0.0im                               1.99953\n",
       "   3 │                     2.00874+0.0im                               1.52863\n",
       "   4 │                     1.55435+0.0im                               1.52666\n",
       "   5 │                     1.49706+0.0im                               1.00311 ⋯\n",
       "   6 │                    -1.23771+0.0im                              0.997752\n",
       "   7 │                     1.08866+0.0im                              0.880788\n",
       "   8 │                     1.00103+0.0im                              0.652281\n",
       "  ⋮  │                    ⋮                                          ⋮         ⋱\n",
       "  24 │                    0.455252+0.0267045im                        -0.34919 ⋯\n",
       "  25 │                    0.455252-0.0267045im                        0.332947\n",
       "  26 │                    0.455904+0.00656656im                       0.332947\n",
       "  27 │                    0.455904-0.00656656im                       0.315322\n",
       "  28 │                    0.377629+0.0im                              0.315322 ⋯\n",
       "  29 │                    0.347424+0.0484908im                       -0.313937\n",
       "  30 │                    0.347424-0.0484908im                        0.293313\n",
       "\u001b[36m                                                   5 columns and 15 rows omitted\u001b[0m"
      ]
     },
     "metadata": {},
     "output_type": "display_data"
    }
   ],
   "source": [
    "id_no_rotation_tt = \"eigensystems/\" * gilt_pars_identifier(gilt_pars) * \"__Z2_odd_sector=true_freeze_R=true_eigensystem.data\"\n",
    "id_no_rotation_tf = \"eigensystems/\" * gilt_pars_identifier(gilt_pars) * \"__Z2_odd_sector=true_freeze_R=false_eigensystem.data\"\n",
    "id_no_rotation_ft = \"eigensystems/\" * gilt_pars_identifier(gilt_pars) * \"__Z2_odd_sector=false_freeze_R=true_eigensystem.data\"\n",
    "id_no_rotation_ff = \"eigensystems/\" * gilt_pars_identifier(gilt_pars) * \"__Z2_odd_sector=false_freeze_R=false_eigensystem.data\"\n",
    "\n",
    "\n",
    "spectrum_Z2T_FT = deserialize(id_no_rotation_tt)[\"eigensystem\"][1]\n",
    "spectrum_Z2T_FF = deserialize(id_no_rotation_tf)[\"eigensystem\"][1]\n",
    "spectrum_Z2F_FT = deserialize(id_no_rotation_ft)[\"eigensystem\"][1]\n",
    "spectrum_Z2F_FF = deserialize(id_no_rotation_ff)[\"eigensystem\"][1];\n",
    "\n",
    "specs = DataFrame()\n",
    "specs[:, \"Z2 odd sector included; R freezing: true\"] = spectrum_Z2T_FT[1:30]\n",
    "specs[:, \"Z2 odd sector included; R freezing: false\"] = spectrum_Z2T_FF[1:30]\n",
    "specs[:, \"Z2 odd sector excluded; R freezing: true\"] = spectrum_Z2F_FT[1:30]\n",
    "specs[:, \"Z2 odd sector excluded; R freezing: false\"] = spectrum_Z2F_FF[1:30]\n",
    "specs[:, \"Z2 odd sector included; Ising CFT prediction\"] = 2 .^ (2 .- exact_spectrum(31)[2:end])\n",
    "specs[:, \"Z2 odd sector excluded; Ising CFT prediction\"] = 2 .^ (2 .- exact_spectrum_even(31)[2:end])\n",
    "\n",
    "CSV.write(\"export/spectra_chi=$chi.csv\", specs)\n",
    "specs"
   ]
  },
  {
   "cell_type": "markdown",
   "metadata": {},
   "source": [
    "## Spectrum of the jacobian after newton for Gilt with rotation"
   ]
  },
  {
   "cell_type": "code",
   "execution_count": 31,
   "metadata": {},
   "outputs": [
    {
     "data": {
      "text/html": [
       "<div><div style = \"float: left;\"><span>31×1 DataFrame</span></div><div style = \"float: right;\"><span style = \"font-style: italic;\">6 rows omitted</span></div><div style = \"clear: both;\"></div></div><div class = \"data-frame\" style = \"overflow-x: scroll;\"><table class = \"data-frame\" style = \"margin-bottom: 6px;\"><thead><tr class = \"header\"><th class = \"rowNumber\" style = \"font-weight: bold; text-align: right;\">Row</th><th style = \"text-align: left;\">chi=10</th></tr><tr class = \"subheader headerLastRow\"><th class = \"rowNumber\" style = \"font-weight: bold; text-align: right;\"></th><th title = \"ComplexF64\" style = \"text-align: left;\">Complex…</th></tr></thead><tbody><tr><td class = \"rowNumber\" style = \"font-weight: bold; text-align: right;\">1</td><td style = \"text-align: right;\">2.00745+0.0im</td></tr><tr><td class = \"rowNumber\" style = \"font-weight: bold; text-align: right;\">2</td><td style = \"text-align: right;\">-0.940972+0.0im</td></tr><tr><td class = \"rowNumber\" style = \"font-weight: bold; text-align: right;\">3</td><td style = \"text-align: right;\">-0.936125+0.0im</td></tr><tr><td class = \"rowNumber\" style = \"font-weight: bold; text-align: right;\">4</td><td style = \"text-align: right;\">0.444238+0.0im</td></tr><tr><td class = \"rowNumber\" style = \"font-weight: bold; text-align: right;\">5</td><td style = \"text-align: right;\">-0.362702+0.0im</td></tr><tr><td class = \"rowNumber\" style = \"font-weight: bold; text-align: right;\">6</td><td style = \"text-align: right;\">-2.78652e-7+0.318294im</td></tr><tr><td class = \"rowNumber\" style = \"font-weight: bold; text-align: right;\">7</td><td style = \"text-align: right;\">-2.78652e-7-0.318294im</td></tr><tr><td class = \"rowNumber\" style = \"font-weight: bold; text-align: right;\">8</td><td style = \"text-align: right;\">0.0627632+0.295995im</td></tr><tr><td class = \"rowNumber\" style = \"font-weight: bold; text-align: right;\">9</td><td style = \"text-align: right;\">0.0627632-0.295995im</td></tr><tr><td class = \"rowNumber\" style = \"font-weight: bold; text-align: right;\">10</td><td style = \"text-align: right;\">-0.0627493+0.295998im</td></tr><tr><td class = \"rowNumber\" style = \"font-weight: bold; text-align: right;\">11</td><td style = \"text-align: right;\">-0.0627493-0.295998im</td></tr><tr><td class = \"rowNumber\" style = \"font-weight: bold; text-align: right;\">12</td><td style = \"text-align: right;\">0.234214+0.0499112im</td></tr><tr><td class = \"rowNumber\" style = \"font-weight: bold; text-align: right;\">13</td><td style = \"text-align: right;\">0.234214-0.0499112im</td></tr><tr><td style = \"text-align: right;\">&vellip;</td><td style = \"text-align: right;\">&vellip;</td></tr><tr><td class = \"rowNumber\" style = \"font-weight: bold; text-align: right;\">20</td><td style = \"text-align: right;\">-0.149251+0.0im</td></tr><tr><td class = \"rowNumber\" style = \"font-weight: bold; text-align: right;\">21</td><td style = \"text-align: right;\">0.120456+0.0im</td></tr><tr><td class = \"rowNumber\" style = \"font-weight: bold; text-align: right;\">22</td><td style = \"text-align: right;\">-0.119266+0.0im</td></tr><tr><td class = \"rowNumber\" style = \"font-weight: bold; text-align: right;\">23</td><td style = \"text-align: right;\">0.116603+0.0im</td></tr><tr><td class = \"rowNumber\" style = \"font-weight: bold; text-align: right;\">24</td><td style = \"text-align: right;\">0.087014+0.0im</td></tr><tr><td class = \"rowNumber\" style = \"font-weight: bold; text-align: right;\">25</td><td style = \"text-align: right;\">0.0849041+0.0im</td></tr><tr><td class = \"rowNumber\" style = \"font-weight: bold; text-align: right;\">26</td><td style = \"text-align: right;\">0.00186427+0.0733834im</td></tr><tr><td class = \"rowNumber\" style = \"font-weight: bold; text-align: right;\">27</td><td style = \"text-align: right;\">0.00186427-0.0733834im</td></tr><tr><td class = \"rowNumber\" style = \"font-weight: bold; text-align: right;\">28</td><td style = \"text-align: right;\">-0.00187008+0.0733361im</td></tr><tr><td class = \"rowNumber\" style = \"font-weight: bold; text-align: right;\">29</td><td style = \"text-align: right;\">-0.00187008-0.0733361im</td></tr><tr><td class = \"rowNumber\" style = \"font-weight: bold; text-align: right;\">30</td><td style = \"text-align: right;\">0.0699552+0.0im</td></tr><tr><td class = \"rowNumber\" style = \"font-weight: bold; text-align: right;\">31</td><td style = \"text-align: right;\">0.0652758+0.0im</td></tr></tbody></table></div>"
      ],
      "text/latex": [
       "\\begin{tabular}{r|c}\n",
       "\t& chi=10\\\\\n",
       "\t\\hline\n",
       "\t& Complex…\\\\\n",
       "\t\\hline\n",
       "\t1 & 2.00745+0.0im \\\\\n",
       "\t2 & -0.940972+0.0im \\\\\n",
       "\t3 & -0.936125+0.0im \\\\\n",
       "\t4 & 0.444238+0.0im \\\\\n",
       "\t5 & -0.362702+0.0im \\\\\n",
       "\t6 & -2.78652e-7+0.318294im \\\\\n",
       "\t7 & -2.78652e-7-0.318294im \\\\\n",
       "\t8 & 0.0627632+0.295995im \\\\\n",
       "\t9 & 0.0627632-0.295995im \\\\\n",
       "\t10 & -0.0627493+0.295998im \\\\\n",
       "\t11 & -0.0627493-0.295998im \\\\\n",
       "\t12 & 0.234214+0.0499112im \\\\\n",
       "\t13 & 0.234214-0.0499112im \\\\\n",
       "\t14 & 0.225037+0.0im \\\\\n",
       "\t15 & 2.0394e-5+0.19425im \\\\\n",
       "\t16 & 2.0394e-5-0.19425im \\\\\n",
       "\t17 & -0.189143+0.0im \\\\\n",
       "\t18 & 0.185526+0.0im \\\\\n",
       "\t19 & -0.1587+0.0im \\\\\n",
       "\t20 & -0.149251+0.0im \\\\\n",
       "\t21 & 0.120456+0.0im \\\\\n",
       "\t22 & -0.119266+0.0im \\\\\n",
       "\t23 & 0.116603+0.0im \\\\\n",
       "\t24 & 0.087014+0.0im \\\\\n",
       "\t$\\dots$ & $\\dots$ \\\\\n",
       "\\end{tabular}\n"
      ],
      "text/plain": [
       "\u001b[1m31×1 DataFrame\u001b[0m\n",
       "\u001b[1m Row \u001b[0m│\u001b[1m chi=10                  \u001b[0m\n",
       "     │\u001b[90m Complex…                \u001b[0m\n",
       "─────┼─────────────────────────\n",
       "   1 │     2.00745+0.0im\n",
       "   2 │   -0.940972+0.0im\n",
       "   3 │   -0.936125+0.0im\n",
       "   4 │    0.444238+0.0im\n",
       "   5 │   -0.362702+0.0im\n",
       "   6 │ -2.78652e-7+0.318294im\n",
       "   7 │ -2.78652e-7-0.318294im\n",
       "   8 │   0.0627632+0.295995im\n",
       "  ⋮  │            ⋮\n",
       "  25 │   0.0849041+0.0im\n",
       "  26 │  0.00186427+0.0733834im\n",
       "  27 │  0.00186427-0.0733834im\n",
       "  28 │ -0.00187008+0.0733361im\n",
       "  29 │ -0.00187008-0.0733361im\n",
       "  30 │   0.0699552+0.0im\n",
       "  31 │   0.0652758+0.0im\n",
       "\u001b[36m                16 rows omitted\u001b[0m"
      ]
     },
     "metadata": {},
     "output_type": "display_data"
    }
   ],
   "source": [
    "newton_result = deserialize(\"newton/\" * gilt_pars_identifier(gilt_pars_r) * \"__newton_result.data\")\n",
    "specs = DataFrame()\n",
    "specs[:, \"chi=$chi\"] = newton_result[\"eigensystem\"][1]\n",
    "\n",
    "CSV.write(\"export/spectrum_chi=$(chi)_after_newton.csv\", specs)\n",
    "specs\n"
   ]
  }
 ],
 "metadata": {
  "kernelspec": {
   "display_name": "Julia 1.10.2",
   "language": "julia",
   "name": "julia-1.10"
  },
  "language_info": {
   "file_extension": ".jl",
   "mimetype": "application/julia",
   "name": "julia",
   "version": "1.10.2"
  }
 },
 "nbformat": 4,
 "nbformat_minor": 2
}
