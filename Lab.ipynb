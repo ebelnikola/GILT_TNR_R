{
 "cells": [
  {
   "cell_type": "code",
   "execution_count": 1,
   "metadata": {},
   "outputs": [],
   "source": [
    "include(\"Tools.jl\");"
   ]
  },
  {
   "cell_type": "markdown",
   "metadata": {},
   "source": [
    "First of all we need to find an optimal value of gilt_eps for our experiments. The following cell will do this. It doubles the \"optimal_epsilon.jl\" script."
   ]
  },
  {
   "cell_type": "code",
   "execution_count": null,
   "metadata": {},
   "outputs": [],
   "source": [
    "chi::Int64 = 10\n",
    "relT::Float64 = 1.0\n",
    "traj_len::Int64 = 20\n",
    "cg_eps::Float64 = 1e-10\n",
    "eps_low_exponent::Float64 = -8.0\n",
    "eps_high_exponent::Float64 = -1.0\n",
    "\n",
    "\n",
    "function epsilon_test(gilt_eps, chi=chi, cg_eps=cg_eps, relT=relT)\n",
    "    gilt_pars = Dict(\n",
    "        \"gilt_eps\" => gilt_eps,\n",
    "        \"cg_chis\" => collect(1:chi),\n",
    "        \"cg_eps\" => cg_eps,\n",
    "        \"verbosity\" => 0,\n",
    "        \"rotate\" => false,\n",
    "    )\n",
    "    traj = trajectory_no_saving(relT, traj_len, gilt_pars)\n",
    "    error_measure = x -> sqrt((x[1])^2 + (x[2] + x[3])^2 / 4 + (x[4] + x[5])^2 / 4)\n",
    "    findmax(error_measure.(traj[\"errs\"]))[1]\n",
    "end\n",
    "\n",
    "@info \"Started the test\"\n",
    "\n",
    "epsilons = 10 .^ (collect(eps_high_exponent:-0.1:eps_low_exponent))\n",
    "results = epsilon_test.(epsilons)\n",
    "\n",
    "error_measure, index = findmin(results)\n",
    "optimal_epsilon = epsilons[index]\n",
    "\n",
    "@info \"Found the optimal epsilon = $optimal_epsilon giving the error = $error_measure\"\n",
    "\n",
    "fig = Figure()\n",
    "ax = Axis(fig[1, 1];\n",
    "    title=\"Maximal error along the the trajectory with relT=$relT vs gilt_eps\",\n",
    "    yscale=log10,\n",
    "    xscale=log10,\n",
    "    ylabel=\"maximal error\",\n",
    "    xlabel=\"gilt_eps\",\n",
    ")\n",
    "\n",
    "lines!(ax, epsilons, results)\n",
    "\n",
    "fig\n"
   ]
  },
  {
   "cell_type": "code",
   "execution_count": null,
   "metadata": {},
   "outputs": [],
   "source": []
  }
 ],
 "metadata": {
  "kernelspec": {
   "display_name": "Julia 1.8.1",
   "language": "julia",
   "name": "julia-1.8"
  },
  "language_info": {
   "file_extension": ".jl",
   "mimetype": "application/julia",
   "name": "julia",
   "version": "1.8.1"
  }
 },
 "nbformat": 4,
 "nbformat_minor": 2
}
